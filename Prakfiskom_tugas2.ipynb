{
  "cells": [
    {
      "cell_type": "markdown",
      "metadata": {},
      "source": [
        "### Soal\n",
        "Sebuah bola biliar yang mula-mula diam kemudian disodok dengan gaya 40 N waktu sentuh 10 ms. Jika massa bola 0.2 Kg maka kecepatan bola setelah diberi gaya implus adalah..."
      ]
    },
    {
      "cell_type": "markdown",
      "metadata": {
        "id": "zP4y6E_Mn-Hi"
      },
      "source": [
        "**Jawab**\n",
        "\n",
        "$ I = ΔP $ \n",
        "\n",
        "$ F \\times Δt = m \\times v $\n",
        "\n",
        "$ 40 \\times 0.01 = 0.2 \\times v $ \n",
        "\n",
        "$ v = 2 $ m\\s"
      ]
    },
    {
      "cell_type": "code",
      "execution_count": 5,
      "metadata": {
        "colab": {
          "base_uri": "https://localhost:8080/"
        },
        "id": "TH8-cnKyktv9",
        "outputId": "b86f2deb-cc47-4b8e-b540-c890005abf45"
      },
      "outputs": [
        {
          "name": "stdout",
          "output_type": "stream",
          "text": [
            "2.0 m/s\n"
          ]
        }
      ],
      "source": [
        "# I = ΔP\n",
        "F = 40 #N\n",
        "t = 0.01 #s\n",
        "m = 0.2  #kg\n",
        "\n",
        "# F . Δt = m . v\n",
        "v = F * t / m\n",
        "print(v, \"m/s\")"
      ]
    }
  ],
  "metadata": {
    "colab": {
      "provenance": []
    },
    "kernelspec": {
      "display_name": "Python 3",
      "name": "python3"
    },
    "language_info": {
      "codemirror_mode": {
        "name": "ipython",
        "version": 3
      },
      "file_extension": ".py",
      "mimetype": "text/x-python",
      "name": "python",
      "nbconvert_exporter": "python",
      "pygments_lexer": "ipython3",
      "version": "3.11.5"
    }
  },
  "nbformat": 4,
  "nbformat_minor": 0
}
